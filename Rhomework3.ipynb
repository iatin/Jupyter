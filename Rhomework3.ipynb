{
 "cells": [
  {
   "cell_type": "code",
   "execution_count": 1,
   "metadata": {},
   "outputs": [],
   "source": [
    "a <-read.csv(\"donation.csv\", header=TRUE, sep=\",\")"
   ]
  },
  {
   "cell_type": "markdown",
   "metadata": {},
   "source": [
    "Question 1:"
   ]
  },
  {
   "cell_type": "code",
   "execution_count": 2,
   "metadata": {},
   "outputs": [],
   "source": [
    "# Calculate for the total donation for each alumni\n",
    "a$TGiving=a$FY04Giving+a$FY03Giving+a$FY02Giving+a$FY01Giving+a$FY00Giving"
   ]
  },
  {
   "cell_type": "code",
   "execution_count": 3,
   "metadata": {},
   "outputs": [],
   "source": [
    "# Calcualte the mean for donation per person\n",
    "mean=mean(a$TGiving)"
   ]
  },
  {
   "cell_type": "code",
   "execution_count": 4,
   "metadata": {},
   "outputs": [
    {
     "name": "stdout",
     "output_type": "stream",
     "text": [
      "[1] 980.0436\n"
     ]
    }
   ],
   "source": [
    "print(mean)"
   ]
  },
  {
   "cell_type": "code",
   "execution_count": 5,
   "metadata": {},
   "outputs": [],
   "source": [
    "#the number of total alumus\n",
    "numa=nrow(a) "
   ]
  },
  {
   "cell_type": "code",
   "execution_count": 6,
   "metadata": {},
   "outputs": [
    {
     "name": "stdout",
     "output_type": "stream",
     "text": [
      "[1] 1230\n"
     ]
    }
   ],
   "source": [
    "print(numa)"
   ]
  },
  {
   "cell_type": "markdown",
   "metadata": {},
   "source": [
    "*since we are using sample standard deviation to estimate population standard deviation, even though the sample size is decent, we still use T distribution for more accurate result."
   ]
  },
  {
   "cell_type": "code",
   "execution_count": 7,
   "metadata": {},
   "outputs": [],
   "source": [
    "# with 95% confidence, we may know a/2=(1-95%)/2=2.5%, so one tail of the distribution should be 2.5%. \n",
    "t=qt(0.975,numa-1) "
   ]
  },
  {
   "cell_type": "code",
   "execution_count": 8,
   "metadata": {},
   "outputs": [],
   "source": [
    "# below we calculate the 95% confident interval\n",
    "CIta=mean+c(-1,1)*t*sd(a$TGiving)/sqrt(numa)"
   ]
  },
  {
   "cell_type": "code",
   "execution_count": 9,
   "metadata": {
    "scrolled": true
   },
   "outputs": [
    {
     "name": "stdout",
     "output_type": "stream",
     "text": [
      "[1]  606.8797 1353.2074\n"
     ]
    }
   ],
   "source": [
    "print(CIta)"
   ]
  },
  {
   "cell_type": "markdown",
   "metadata": {},
   "source": [
    "Question 1: We are 95% confident that the true mean donation is between 606.8797 and 1353.2074 USD, although the true mean may or may not be in this interval, 95% of the intervals formed in this manner from all samples will contain the true mean. "
   ]
  },
  {
   "cell_type": "markdown",
   "metadata": {},
   "source": [
    "Question 2:"
   ]
  },
  {
   "cell_type": "code",
   "execution_count": 10,
   "metadata": {},
   "outputs": [],
   "source": [
    "# calculate the number of alumus who donate at least 1000usd\n",
    "b=a[a$TGiving>=1000,]"
   ]
  },
  {
   "cell_type": "code",
   "execution_count": 11,
   "metadata": {},
   "outputs": [],
   "source": [
    "numb=nrow(b) "
   ]
  },
  {
   "cell_type": "code",
   "execution_count": 12,
   "metadata": {},
   "outputs": [],
   "source": [
    "# the poportion of the alumus donated at least 1000usd\n",
    "p=numb/numa"
   ]
  },
  {
   "cell_type": "code",
   "execution_count": 13,
   "metadata": {},
   "outputs": [],
   "source": [
    "z=qnorm(0.975)"
   ]
  },
  {
   "cell_type": "code",
   "execution_count": 14,
   "metadata": {},
   "outputs": [],
   "source": [
    "# calculate the confident interval for the above poportion\n",
    "CIp=p+c(-1,1)*z*sqrt(p*(1-p)/1230)"
   ]
  },
  {
   "cell_type": "code",
   "execution_count": 15,
   "metadata": {},
   "outputs": [
    {
     "name": "stdout",
     "output_type": "stream",
     "text": [
      "[1] 0.09304368 0.12809453\n"
     ]
    }
   ],
   "source": [
    "print(CIp)"
   ]
  },
  {
   "attachments": {},
   "cell_type": "markdown",
   "metadata": {},
   "source": [
    "Question 2: We are 95% confident that the true percentage of alumni who donate equal or more than 1000 USD in the population is between 9.30% and 12.81%. "
   ]
  },
  {
   "cell_type": "markdown",
   "metadata": {},
   "source": [
    "Question 3:"
   ]
  },
  {
   "cell_type": "code",
   "execution_count": 16,
   "metadata": {},
   "outputs": [],
   "source": [
    "# assign sampling error 100 to \"e\"\n",
    "e=100"
   ]
  },
  {
   "cell_type": "code",
   "execution_count": 17,
   "metadata": {},
   "outputs": [],
   "source": [
    "# assign the required sample size to N1\n",
    "N1=z^2*(sd(a$TGiving))^2/e^2"
   ]
  },
  {
   "cell_type": "code",
   "execution_count": 18,
   "metadata": {},
   "outputs": [
    {
     "name": "stdout",
     "output_type": "stream",
     "text": [
      "[1] 17094.19\n"
     ]
    }
   ],
   "source": [
    "print(N1)"
   ]
  },
  {
   "cell_type": "code",
   "execution_count": 19,
   "metadata": {},
   "outputs": [
    {
     "name": "stdout",
     "output_type": "stream",
     "text": [
      "[1] 1230\n"
     ]
    }
   ],
   "source": [
    "#Original sample size\n",
    "print(numa)"
   ]
  },
  {
   "cell_type": "code",
   "execution_count": 20,
   "metadata": {},
   "outputs": [
    {
     "name": "stdout",
     "output_type": "stream",
     "text": [
      "[1] -373.1639  373.1639\n"
     ]
    }
   ],
   "source": [
    "#Let's see the original Sampling error\n",
    "print(c(-1,1)*t*sd(a$TGiving)/sqrt(numa))"
   ]
  },
  {
   "cell_type": "code",
   "execution_count": 21,
   "metadata": {},
   "outputs": [
    {
     "name": "stdout",
     "output_type": "stream",
     "text": [
      "[1] 13.89771\n"
     ]
    }
   ],
   "source": [
    "ratio=N1/numa\n",
    "print(ratio)"
   ]
  },
  {
   "cell_type": "markdown",
   "metadata": {},
   "source": [
    "Question 3: The minimum number of sample size is 17095 with sampling error maximized to 100 on mean total contribution with 95% confidence. With the sampling error decrese to 100 from 373.16 of the original sample, the sample size raise from 1230 to 17095, which is almost 14 times of the original sample size.\n"
   ]
  }
 ],
 "metadata": {
  "kernelspec": {
   "display_name": "R",
   "language": "R",
   "name": "ir"
  },
  "language_info": {
   "codemirror_mode": "r",
   "file_extension": ".r",
   "mimetype": "text/x-r-source",
   "name": "R",
   "pygments_lexer": "r",
   "version": "3.5.1"
  }
 },
 "nbformat": 4,
 "nbformat_minor": 2
}
